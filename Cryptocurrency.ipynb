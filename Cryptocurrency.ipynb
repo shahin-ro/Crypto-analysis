{
  "cells": [
    {
      "cell_type": "markdown",
      "metadata": {
        "id": "view-in-github",
        "colab_type": "text"
      },
      "source": [
        "<a href=\"https://colab.research.google.com/github/shahin-ro/Crypto-analysis/blob/main/Cryptocurrency.ipynb\" target=\"_parent\"><img src=\"https://colab.research.google.com/assets/colab-badge.svg\" alt=\"Open In Colab\"/></a>"
      ]
    },
    {
      "cell_type": "markdown",
      "id": "0qEQTEFhwR4Y",
      "metadata": {
        "id": "0qEQTEFhwR4Y"
      },
      "source": [
        "#**install & import libraries that we need**"
      ]
    },
    {
      "cell_type": "code",
      "execution_count": 1,
      "id": "17509f9a-f53c-4fda-b220-d2a85d64d1d3",
      "metadata": {
        "colab": {
          "base_uri": "https://localhost:8080/"
        },
        "id": "17509f9a-f53c-4fda-b220-d2a85d64d1d3",
        "outputId": "900f00cd-6a68-4f12-80db-295fe73f663d"
      },
      "outputs": [
        {
          "output_type": "stream",
          "name": "stdout",
          "text": [
            "Requirement already satisfied: yfinance in /usr/local/lib/python3.10/dist-packages (0.2.41)\n",
            "Requirement already satisfied: pandas>=1.3.0 in /usr/local/lib/python3.10/dist-packages (from yfinance) (2.0.3)\n",
            "Requirement already satisfied: numpy>=1.16.5 in /usr/local/lib/python3.10/dist-packages (from yfinance) (1.25.2)\n",
            "Requirement already satisfied: requests>=2.31 in /usr/local/lib/python3.10/dist-packages (from yfinance) (2.31.0)\n",
            "Requirement already satisfied: multitasking>=0.0.7 in /usr/local/lib/python3.10/dist-packages (from yfinance) (0.0.11)\n",
            "Requirement already satisfied: lxml>=4.9.1 in /usr/local/lib/python3.10/dist-packages (from yfinance) (4.9.4)\n",
            "Requirement already satisfied: platformdirs>=2.0.0 in /usr/local/lib/python3.10/dist-packages (from yfinance) (4.2.2)\n",
            "Requirement already satisfied: pytz>=2022.5 in /usr/local/lib/python3.10/dist-packages (from yfinance) (2024.1)\n",
            "Requirement already satisfied: frozendict>=2.3.4 in /usr/local/lib/python3.10/dist-packages (from yfinance) (2.4.4)\n",
            "Requirement already satisfied: peewee>=3.16.2 in /usr/local/lib/python3.10/dist-packages (from yfinance) (3.17.6)\n",
            "Requirement already satisfied: beautifulsoup4>=4.11.1 in /usr/local/lib/python3.10/dist-packages (from yfinance) (4.12.3)\n",
            "Requirement already satisfied: html5lib>=1.1 in /usr/local/lib/python3.10/dist-packages (from yfinance) (1.1)\n",
            "Requirement already satisfied: soupsieve>1.2 in /usr/local/lib/python3.10/dist-packages (from beautifulsoup4>=4.11.1->yfinance) (2.5)\n",
            "Requirement already satisfied: six>=1.9 in /usr/local/lib/python3.10/dist-packages (from html5lib>=1.1->yfinance) (1.16.0)\n",
            "Requirement already satisfied: webencodings in /usr/local/lib/python3.10/dist-packages (from html5lib>=1.1->yfinance) (0.5.1)\n",
            "Requirement already satisfied: python-dateutil>=2.8.2 in /usr/local/lib/python3.10/dist-packages (from pandas>=1.3.0->yfinance) (2.8.2)\n",
            "Requirement already satisfied: tzdata>=2022.1 in /usr/local/lib/python3.10/dist-packages (from pandas>=1.3.0->yfinance) (2024.1)\n",
            "Requirement already satisfied: charset-normalizer<4,>=2 in /usr/local/lib/python3.10/dist-packages (from requests>=2.31->yfinance) (3.3.2)\n",
            "Requirement already satisfied: idna<4,>=2.5 in /usr/local/lib/python3.10/dist-packages (from requests>=2.31->yfinance) (3.7)\n",
            "Requirement already satisfied: urllib3<3,>=1.21.1 in /usr/local/lib/python3.10/dist-packages (from requests>=2.31->yfinance) (2.0.7)\n",
            "Requirement already satisfied: certifi>=2017.4.17 in /usr/local/lib/python3.10/dist-packages (from requests>=2.31->yfinance) (2024.7.4)\n",
            "Collecting streamlit\n",
            "  Downloading streamlit-1.37.0-py2.py3-none-any.whl.metadata (8.5 kB)\n",
            "Requirement already satisfied: altair<6,>=4.0 in /usr/local/lib/python3.10/dist-packages (from streamlit) (4.2.2)\n",
            "Requirement already satisfied: blinker<2,>=1.0.0 in /usr/lib/python3/dist-packages (from streamlit) (1.4)\n",
            "Requirement already satisfied: cachetools<6,>=4.0 in /usr/local/lib/python3.10/dist-packages (from streamlit) (5.4.0)\n",
            "Requirement already satisfied: click<9,>=7.0 in /usr/local/lib/python3.10/dist-packages (from streamlit) (8.1.7)\n",
            "Requirement already satisfied: numpy<3,>=1.20 in /usr/local/lib/python3.10/dist-packages (from streamlit) (1.25.2)\n",
            "Requirement already satisfied: packaging<25,>=20 in /usr/local/lib/python3.10/dist-packages (from streamlit) (24.1)\n",
            "Requirement already satisfied: pandas<3,>=1.3.0 in /usr/local/lib/python3.10/dist-packages (from streamlit) (2.0.3)\n",
            "Requirement already satisfied: pillow<11,>=7.1.0 in /usr/local/lib/python3.10/dist-packages (from streamlit) (9.4.0)\n",
            "Requirement already satisfied: protobuf<6,>=3.20 in /usr/local/lib/python3.10/dist-packages (from streamlit) (3.20.3)\n",
            "Requirement already satisfied: pyarrow>=7.0 in /usr/local/lib/python3.10/dist-packages (from streamlit) (14.0.2)\n",
            "Requirement already satisfied: requests<3,>=2.27 in /usr/local/lib/python3.10/dist-packages (from streamlit) (2.31.0)\n",
            "Requirement already satisfied: rich<14,>=10.14.0 in /usr/local/lib/python3.10/dist-packages (from streamlit) (13.7.1)\n",
            "Requirement already satisfied: tenacity<9,>=8.1.0 in /usr/local/lib/python3.10/dist-packages (from streamlit) (8.5.0)\n",
            "Requirement already satisfied: toml<2,>=0.10.1 in /usr/local/lib/python3.10/dist-packages (from streamlit) (0.10.2)\n",
            "Requirement already satisfied: typing-extensions<5,>=4.3.0 in /usr/local/lib/python3.10/dist-packages (from streamlit) (4.12.2)\n",
            "Collecting gitpython!=3.1.19,<4,>=3.0.7 (from streamlit)\n",
            "  Downloading GitPython-3.1.43-py3-none-any.whl.metadata (13 kB)\n",
            "Collecting pydeck<1,>=0.8.0b4 (from streamlit)\n",
            "  Downloading pydeck-0.9.1-py2.py3-none-any.whl.metadata (4.1 kB)\n",
            "Requirement already satisfied: tornado<7,>=6.0.3 in /usr/local/lib/python3.10/dist-packages (from streamlit) (6.3.3)\n",
            "Collecting watchdog<5,>=2.1.5 (from streamlit)\n",
            "  Downloading watchdog-4.0.1-py3-none-manylinux2014_x86_64.whl.metadata (37 kB)\n",
            "Requirement already satisfied: entrypoints in /usr/local/lib/python3.10/dist-packages (from altair<6,>=4.0->streamlit) (0.4)\n",
            "Requirement already satisfied: jinja2 in /usr/local/lib/python3.10/dist-packages (from altair<6,>=4.0->streamlit) (3.1.4)\n",
            "Requirement already satisfied: jsonschema>=3.0 in /usr/local/lib/python3.10/dist-packages (from altair<6,>=4.0->streamlit) (4.23.0)\n",
            "Requirement already satisfied: toolz in /usr/local/lib/python3.10/dist-packages (from altair<6,>=4.0->streamlit) (0.12.1)\n",
            "Collecting gitdb<5,>=4.0.1 (from gitpython!=3.1.19,<4,>=3.0.7->streamlit)\n",
            "  Downloading gitdb-4.0.11-py3-none-any.whl.metadata (1.2 kB)\n",
            "Requirement already satisfied: python-dateutil>=2.8.2 in /usr/local/lib/python3.10/dist-packages (from pandas<3,>=1.3.0->streamlit) (2.8.2)\n",
            "Requirement already satisfied: pytz>=2020.1 in /usr/local/lib/python3.10/dist-packages (from pandas<3,>=1.3.0->streamlit) (2024.1)\n",
            "Requirement already satisfied: tzdata>=2022.1 in /usr/local/lib/python3.10/dist-packages (from pandas<3,>=1.3.0->streamlit) (2024.1)\n",
            "Requirement already satisfied: charset-normalizer<4,>=2 in /usr/local/lib/python3.10/dist-packages (from requests<3,>=2.27->streamlit) (3.3.2)\n",
            "Requirement already satisfied: idna<4,>=2.5 in /usr/local/lib/python3.10/dist-packages (from requests<3,>=2.27->streamlit) (3.7)\n",
            "Requirement already satisfied: urllib3<3,>=1.21.1 in /usr/local/lib/python3.10/dist-packages (from requests<3,>=2.27->streamlit) (2.0.7)\n",
            "Requirement already satisfied: certifi>=2017.4.17 in /usr/local/lib/python3.10/dist-packages (from requests<3,>=2.27->streamlit) (2024.7.4)\n",
            "Requirement already satisfied: markdown-it-py>=2.2.0 in /usr/local/lib/python3.10/dist-packages (from rich<14,>=10.14.0->streamlit) (3.0.0)\n",
            "Requirement already satisfied: pygments<3.0.0,>=2.13.0 in /usr/local/lib/python3.10/dist-packages (from rich<14,>=10.14.0->streamlit) (2.16.1)\n",
            "Collecting smmap<6,>=3.0.1 (from gitdb<5,>=4.0.1->gitpython!=3.1.19,<4,>=3.0.7->streamlit)\n",
            "  Downloading smmap-5.0.1-py3-none-any.whl.metadata (4.3 kB)\n",
            "Requirement already satisfied: MarkupSafe>=2.0 in /usr/local/lib/python3.10/dist-packages (from jinja2->altair<6,>=4.0->streamlit) (2.1.5)\n",
            "Requirement already satisfied: attrs>=22.2.0 in /usr/local/lib/python3.10/dist-packages (from jsonschema>=3.0->altair<6,>=4.0->streamlit) (23.2.0)\n",
            "Requirement already satisfied: jsonschema-specifications>=2023.03.6 in /usr/local/lib/python3.10/dist-packages (from jsonschema>=3.0->altair<6,>=4.0->streamlit) (2023.12.1)\n",
            "Requirement already satisfied: referencing>=0.28.4 in /usr/local/lib/python3.10/dist-packages (from jsonschema>=3.0->altair<6,>=4.0->streamlit) (0.35.1)\n",
            "Requirement already satisfied: rpds-py>=0.7.1 in /usr/local/lib/python3.10/dist-packages (from jsonschema>=3.0->altair<6,>=4.0->streamlit) (0.19.0)\n",
            "Requirement already satisfied: mdurl~=0.1 in /usr/local/lib/python3.10/dist-packages (from markdown-it-py>=2.2.0->rich<14,>=10.14.0->streamlit) (0.1.2)\n",
            "Requirement already satisfied: six>=1.5 in /usr/local/lib/python3.10/dist-packages (from python-dateutil>=2.8.2->pandas<3,>=1.3.0->streamlit) (1.16.0)\n",
            "Downloading streamlit-1.37.0-py2.py3-none-any.whl (8.7 MB)\n",
            "\u001b[2K   \u001b[90m━━━━━━━━━━━━━━━━━━━━━━━━━━━━━━━━━━━━━━━━\u001b[0m \u001b[32m8.7/8.7 MB\u001b[0m \u001b[31m32.1 MB/s\u001b[0m eta \u001b[36m0:00:00\u001b[0m\n",
            "\u001b[?25hDownloading GitPython-3.1.43-py3-none-any.whl (207 kB)\n",
            "\u001b[2K   \u001b[90m━━━━━━━━━━━━━━━━━━━━━━━━━━━━━━━━━━━━━━━━\u001b[0m \u001b[32m207.3/207.3 kB\u001b[0m \u001b[31m13.1 MB/s\u001b[0m eta \u001b[36m0:00:00\u001b[0m\n",
            "\u001b[?25hDownloading pydeck-0.9.1-py2.py3-none-any.whl (6.9 MB)\n",
            "\u001b[2K   \u001b[90m━━━━━━━━━━━━━━━━━━━━━━━━━━━━━━━━━━━━━━━━\u001b[0m \u001b[32m6.9/6.9 MB\u001b[0m \u001b[31m67.5 MB/s\u001b[0m eta \u001b[36m0:00:00\u001b[0m\n",
            "\u001b[?25hDownloading watchdog-4.0.1-py3-none-manylinux2014_x86_64.whl (83 kB)\n",
            "\u001b[2K   \u001b[90m━━━━━━━━━━━━━━━━━━━━━━━━━━━━━━━━━━━━━━━━\u001b[0m \u001b[32m83.0/83.0 kB\u001b[0m \u001b[31m6.3 MB/s\u001b[0m eta \u001b[36m0:00:00\u001b[0m\n",
            "\u001b[?25hDownloading gitdb-4.0.11-py3-none-any.whl (62 kB)\n",
            "\u001b[2K   \u001b[90m━━━━━━━━━━━━━━━━━━━━━━━━━━━━━━━━━━━━━━━━\u001b[0m \u001b[32m62.7/62.7 kB\u001b[0m \u001b[31m4.4 MB/s\u001b[0m eta \u001b[36m0:00:00\u001b[0m\n",
            "\u001b[?25hDownloading smmap-5.0.1-py3-none-any.whl (24 kB)\n",
            "Installing collected packages: watchdog, smmap, pydeck, gitdb, gitpython, streamlit\n",
            "Successfully installed gitdb-4.0.11 gitpython-3.1.43 pydeck-0.9.1 smmap-5.0.1 streamlit-1.37.0 watchdog-4.0.1\n",
            "\u001b[K\u001b[?25h\n",
            "added 22 packages, and audited 23 packages in 3s\n",
            "\n",
            "3 packages are looking for funding\n",
            "  run `npm fund` for details\n",
            "\n",
            "2 \u001b[33m\u001b[1mmoderate\u001b[22m\u001b[39m severity vulnerabilities\n",
            "\n",
            "To address all issues, run:\n",
            "  npm audit fix\n",
            "\n",
            "Run `npm audit` for details.\n"
          ]
        }
      ],
      "source": [
        "!pip install yfinance\n",
        "!pip install streamlit\n",
        "import urllib\n",
        "import streamlit as st\n",
        "import yfinance as yf\n",
        "import pandas as pd\n",
        "import matplotlib.pyplot as plt\n",
        "!npm install localtunnel"
      ]
    },
    {
      "cell_type": "markdown",
      "id": "r-uAu1Ckw62R",
      "metadata": {
        "id": "r-uAu1Ckw62R"
      },
      "source": [
        "#**Creat file and then import libraries and codes into that**"
      ]
    },
    {
      "cell_type": "code",
      "execution_count": 2,
      "id": "-hFudav3LK5u",
      "metadata": {
        "colab": {
          "base_uri": "https://localhost:8080/"
        },
        "id": "-hFudav3LK5u",
        "outputId": "f0c46bfd-a15b-499d-9b3d-940514525839"
      },
      "outputs": [
        {
          "output_type": "stream",
          "name": "stdout",
          "text": [
            "Writing Cryptocurrency.py\n"
          ]
        }
      ],
      "source": [
        "%%writefile Cryptocurrency.py\n",
        "import streamlit as st\n",
        "import urllib\n",
        "import yfinance as yf\n",
        "import pandas as pd\n",
        "import matplotlib.pyplot as plt\n",
        "st.set_page_config(\n",
        "    page_title=\"Crypto\",\n",
        "    page_icon=\"💲\",\n",
        "    layout=\"wide\",\n",
        "    initial_sidebar_state=\"collapsed\"\n",
        ")\n",
        "st.title(\"Benefit & losses of Cryptocurrency\")\n",
        "start_date , end_date= st.date_input(\"Start Date\"),st.date_input(\"End Date\")\n",
        "name = st.text_input(\"Enter name that you want to show like BTC\")\n",
        "col1, col2 = st.columns(2)  # Create two columns with equal width\n",
        "\n",
        "with col1:\n",
        "    button_a = st.button(\"First to End\")\n",
        "\n",
        "with col2:\n",
        "    button_b = st.button(\"Specific Date\")\n",
        "if name.count('')>0 and button_a:\n",
        "  df = yf.download(name.upper()+\"-USD\")\n",
        "  df[\"Benefit\"] = df[\"Close\"] - df[\"Open\"]\n",
        "  df[\"Color\"] = df[\"Benefit\"].apply(lambda button_b: \"black\" if button_b>0 else \"red\")\n",
        "  df.drop(columns=[\"Adj Close\"], inplace=True)\n",
        "  df.reset_index(inplace=True)\n",
        "  df[\"Date\"] = pd.to_datetime(df[\"Date\"])\n",
        "  df[\"Month\"] = df[\"Date\"].apply(lambda d : d.month)\n",
        "  df[\"WeekDay\"] = df[\"Date\"].apply(lambda d : d.isoweekday())\n",
        "  df2 , df3 = df[[\"WeekDay\",\"Benefit\"]] , df[[\"Month\",\"Benefit\"]]\n",
        "  df4 , df5 = (df2[df2[\"Benefit\"]>0].groupby(\"WeekDay\").sum())+(df2[df2[\"Benefit\"]<0].groupby(\"WeekDay\").sum()) , (df3[df3[\"Benefit\"]>0].groupby(\"Month\").sum())+(df3[df3[\"Benefit\"]<0].groupby(\"Month\").sum())\n",
        "  col3 , col4 = st.columns(2)\n",
        "  with col3:\n",
        "    st.write(df4.apply(lambda x: \"Highest benefit = \" + \"Day \" + str(x.argmax() + 1) + \" & \" +  \"Lowest benefit = \" + \"Day \" + str(x.argmin() + 1)))\n",
        "  with col4:\n",
        "    st.write(df5.apply(lambda x: \"Highest benefit=\" + \"Month \" + str(x.argmax() + 1) + \" & \" +  \"Lowest benefit=\" + \"Month \" + str(x.argmin() + 1)))\n",
        "  fig, (ax1, ax2) = plt.subplots(1, 2, figsize=(14, 5))  # Create a figure with 2 subplots\n",
        "\n",
        "  # Plot on the first subplot (ax1)\n",
        "  ax1.bar(df4.index, df4[\"Benefit\"])\n",
        "  ax1.plot(df4.index, df4[\"Benefit\"], \"black\")\n",
        "  ax1.set_xlabel('WeekDay')\n",
        "  ax1.set_ylabel('Benefit & Losses')\n",
        "  ax1.set_title(f'Benefit average {name.upper()} by WeekDay {df.iloc[0,0]} to {df.iloc[-1,0]}')\n",
        "\n",
        "  # Plot on the second subplot (ax2)\n",
        "  ax2.bar(df5.index, df5[\"Benefit\"])\n",
        "  ax2.plot(df5.index, df5[\"Benefit\"], \"black\")\n",
        "  ax2.set_xlabel('Month')\n",
        "  ax2.set_ylabel('Benefit & Losses')\n",
        "  ax2.set_title(f'Benefit average {name.upper()} by Month {df.iloc[0,0]} to {df.iloc[-1,0]}')\n",
        "\n",
        "  plt.tight_layout()\n",
        "\n",
        "  st.pyplot(fig)\n",
        "elif name.count('') and button_b:\n",
        "  df = yf.download(name.upper()+\"-USD\",start=start_date,end=end_date)\n",
        "  df[\"Benefit\"] = df[\"Close\"] - df[\"Open\"]\n",
        "  df[\"Color\"] = df[\"Benefit\"].apply(lambda button_b: \"green\" if button_b>0 else \"red\")\n",
        "  df.drop(columns=[\"Adj Close\"], inplace=True)\n",
        "  df.reset_index(inplace=True)\n",
        "  df[\"Date\"] = pd.to_datetime(df[\"Date\"])\n",
        "  df[\"Month\"] = df[\"Date\"].apply(lambda d : d.month)\n",
        "  df[\"WeekDay\"] = df[\"Date\"].apply(lambda d : d.isoweekday())\n",
        "  df2 , df3 = df[[\"WeekDay\",\"Benefit\"]] , df[[\"Month\",\"Benefit\"]]\n",
        "  df4 , df5 = (df2[df2[\"Benefit\"]>0].groupby(\"WeekDay\").sum())+(df2[df2[\"Benefit\"]<0].groupby(\"WeekDay\").sum()) , (df3[df3[\"Benefit\"]>0].groupby(\"Month\").sum())+(df3[df3[\"Benefit\"]<0].groupby(\"Month\").sum())\n",
        "  col3 , col4 = st.columns(2)\n",
        "  with col3:\n",
        "    st.write(df4.apply(lambda x: \"Highest benefit = \" + \"Day \" + str(x.argmax() + 1) + \" & \" +  \"Lowest benefit = \" + \"Day \" + str(x.argmin() + 1)))\n",
        "  with col4:\n",
        "    st.write(df5.apply(lambda x: \"Highest benefit=\" + \"Month \" + str(x.argmax() + 1) + \" & \" +  \"Lowest benefit=\" + \"Month \" + str(x.argmin() + 1)))\n",
        "  fig, (ax1, ax2) = plt.subplots(1, 2, figsize=(14, 5))  # Create a figure with 2 subplots\n",
        "\n",
        "  # Plot on the first subplot (ax1)\n",
        "  ax1.bar(df4.index, df4[\"Benefit\"], label=\"Benefit\")\n",
        "  ax1.plot(df4.index, df4[\"Benefit\"], \"black\")\n",
        "  ax1.set_xlabel('WeekDay')\n",
        "  ax1.set_ylabel('Benefit')\n",
        "  ax1.set_title(f'Benefit average {name.upper()} by WeekDay {df.iloc[0,0]} to {df.iloc[-1,0]}')\n",
        "\n",
        "  # Plot on the second subplot (ax2)\n",
        "  ax2.bar(df5.index, df5[\"Benefit\"], label=\"Benefit\")\n",
        "  ax2.plot(df5.index, df5[\"Benefit\"], \"black\")\n",
        "  ax2.set_xlabel('Month')\n",
        "  ax2.set_ylabel('Benefit')\n",
        "  ax2.set_title(f'Benefit average {name.upper()} by Month {df.iloc[0,0]} to {df.iloc[-1,0]}')\n",
        "\n",
        "  plt.tight_layout()\n",
        "\n",
        "  st.pyplot(fig)\n"
      ]
    },
    {
      "cell_type": "markdown",
      "id": "dGpM-3Emx_EK",
      "metadata": {
        "id": "dGpM-3Emx_EK"
      },
      "source": [
        "#**Creat IP**"
      ]
    },
    {
      "cell_type": "code",
      "execution_count": 3,
      "id": "VtAfgmL-O_m0",
      "metadata": {
        "colab": {
          "base_uri": "https://localhost:8080/"
        },
        "id": "VtAfgmL-O_m0",
        "outputId": "2a68deb6-06ef-4a37-c9f1-570dea82a3f3"
      },
      "outputs": [
        {
          "output_type": "stream",
          "name": "stdout",
          "text": [
            "Password/Enpoint IP for localtunnel is: 35.239.168.128\n"
          ]
        }
      ],
      "source": [
        "print(\"Password/Enpoint IP for localtunnel is:\",urllib.request.urlopen('https://ipv4.icanhazip.com').read().decode('utf8').strip(\"\\n\"))"
      ]
    },
    {
      "cell_type": "markdown",
      "id": "nS8BiqHPyb5Y",
      "metadata": {
        "id": "nS8BiqHPyb5Y"
      },
      "source": [
        "#**Open site and then enter IP**"
      ]
    },
    {
      "cell_type": "code",
      "execution_count": 4,
      "id": "833X6Tu9PyFs",
      "metadata": {
        "colab": {
          "base_uri": "https://localhost:8080/"
        },
        "id": "833X6Tu9PyFs",
        "outputId": "b6135efa-a541-4053-95da-19b3e56e9772"
      },
      "outputs": [
        {
          "output_type": "stream",
          "name": "stdout",
          "text": [
            "\n",
            "Collecting usage statistics. To deactivate, set browser.gatherUsageStats to false.\n",
            "\u001b[0m\n",
            "\u001b[0m\n",
            "\u001b[34m\u001b[1m  You can now view your Streamlit app in your browser.\u001b[0m\n",
            "\u001b[0m\n",
            "\u001b[34m  Local URL: \u001b[0m\u001b[1mhttp://localhost:8501\u001b[0m\n",
            "\u001b[34m  Network URL: \u001b[0m\u001b[1mhttp://172.28.0.12:8501\u001b[0m\n",
            "\u001b[34m  External URL: \u001b[0m\u001b[1mhttp://35.239.168.128:8501\u001b[0m\n",
            "\u001b[0m\n",
            "\u001b[34m  Stopping...\u001b[0m\n",
            "^C\n"
          ]
        }
      ],
      "source": [
        "! streamlit run Cryptocurrency.py & npx localtunnel --port 8501"
      ]
    }
  ],
  "metadata": {
    "colab": {
      "provenance": [],
      "gpuType": "T4",
      "include_colab_link": true
    },
    "kernelspec": {
      "display_name": "Python 3",
      "name": "python3"
    },
    "language_info": {
      "codemirror_mode": {
        "name": "ipython",
        "version": 3
      },
      "file_extension": ".py",
      "mimetype": "text/x-python",
      "name": "python",
      "nbconvert_exporter": "python",
      "pygments_lexer": "ipython3",
      "version": "3.12.3"
    },
    "accelerator": "GPU"
  },
  "nbformat": 4,
  "nbformat_minor": 5
}